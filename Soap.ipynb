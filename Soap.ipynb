{
 "cells": [
  {
   "cell_type": "code",
   "execution_count": null,
   "metadata": {},
   "outputs": [],
   "source": [
    "from bs4 import BeautifulSoup\n",
    "import requests\n",
    "\n",
    "# Importar librerías para manipulación y análisis de datos\n",
    "# -----------------------------------------------------------------------\n",
    "import pandas as pd\n",
    "\n",
    "# Importar librerías para procesamiento de texto\n",
    "# -----------------------------------------------------------------------\n",
    "import re"
   ]
  },
  {
   "cell_type": "markdown",
   "metadata": {},
   "source": [
    "Realizará una solicitud HTTP GET a la siguiente url.\n",
    "Comprobará el código de estado de la respuesta. Si el código no es 200 (OK), imprimirá un mensaje de error y retornará None.\n",
    "Extraerá los nombres de los coches, los precios rebajados, los precios originales y la información de los kilómetros recorridos de la página.\n",
    "Organizará los datos extraídos en un DataFrame de pandas con las siguientes columnas:\n",
    "\"coche\": Nombres de los coches.\n",
    "\"precio_rebajado\": Precios rebajados.\n",
    "\"precio_original\": Precios originales.\n",
    "\"km\": Kilómetros recorridos.\n",
    "Retornará el DataFrame resultante"
   ]
  },
  {
   "cell_type": "code",
   "execution_count": 73,
   "metadata": {},
   "outputs": [
    {
     "name": "stdout",
     "output_type": "stream",
     "text": [
      "['Hyundai Kona 1.0 TGDi Klass 4x2 (120 CV)', 'Ford Focus 1.0 Ecoboost MHEV Trend+ (125 CV)', 'Hyundai i20 1.2 MPI (75CV) Essence LE', 'Ford Kuga 1.5 EcoBoost A-S-S 4x2 Titanium (150 CV)', 'Citroen C3 PureTech 110 S&S Shine (110 CV)', 'Peugeot 208 BlueHDi 100 Allure (100 CV)', 'Honda Civic 1.6 i-DTEC Elegance (120 CV)', 'Opel Mokka 1.6 CDTI Excellence 4x2 (136 CV)', 'Mercedes-Benz Clase CLA 220 CDI Urban (170 CV)', 'SEAT Leon 1.5 TSI S&S FR Fast Edition  (150 CV)', 'Honda HR-V 1.5 i-VTEC Elegance CVT (130 CV)', 'Mercedes-Benz Vito 200 d Marco Polo Activity Largo (136 CV)', 'Hyundai Kona 1.6 GDI HEV Maxx DCT (141 CV) Híbrido', 'Fiat 500 1.2 S (69 CV)', 'Kia Stonic 1.0 T-GDi Eco-Dynamics Tech (120 CV)', 'Toyota Auris 1.8 Híbrido Active (135 CV)', 'Fiat Panda 1.3 4X4 (95 CV)', 'Land Rover Range Rover Evoque 2.0L TD4 Pure Auto (150 CV) 4x4', 'Peugeot Partner Tepee Tepee BlueHDi 100 Active (100 CV)', 'Citroen C4 Picasso BlueHDi 120 Feel Edition (120 CV)']\n",
      "['15.990€', '14.990€', '11.990€', '16.490€', '12.900€', '17.200€', '14.900€', '16.850€', '23.990€', '19.900€', '19.450€', '58.500€', '23.350€', '15.390€', '12.800€', '21.900€', '14.800€', '12.450€']\n",
      "['14.536€', '13.627€', '10.900€', '14.991€', '11.727€', '15.636€', '13.545€', '15.000€', '21.809€', '18.091€', '15.864€', '53.182€', '21.227€', '7.890€', '13.991€', '9.900€', '11.636€', '19.909€', '13.454€', '11.318€']\n"
     ]
    }
   ],
   "source": [
    "url_coches = \"https://www.ocasionplus.com/coches-ocasion?type%3DCAR%26sort%3DFECHAOP_DESC%26page%3D2\"\n",
    "res_coches = requests.get(url_coches)\n",
    "res_coches.status_code\n",
    "sopa_coches= BeautifulSoup(res_coches.content, \"html.parser\")\n",
    "#print(sopa_coches.prettify())\n",
    "\n",
    "#<h2 style=\"overflow-x:hidden\">Hyundai i20 1.2 MPI (75CV) Essence LE</h2>\n",
    "\n",
    "\n",
    "lista_nombre_coches = sopa_coches.find_all(\"h2\",{\"style\":\"overflow-x:hidden\"})\n",
    "lista_nombre_coches\n",
    "nombres_coches =[]\n",
    "for nombre in lista_nombre_coches:\n",
    "    nombres_coches.append(nombre.getText())\n",
    "print(nombres_coches)\n",
    "\n",
    "lista_precio_ori = sopa_coches.find_all(\"span\",{\"class\":\"jsx-2870186023 priceLast\"})\n",
    "lista_precio_ori\n",
    "precio_original =[]\n",
    "for precio in lista_precio_ori:\n",
    "    precio_original.append(precio.getText())\n",
    "print(precio_original)\n",
    "\n",
    "# <span class=\"jsx-2870186023 priceLast\">11.990<!-- -->€</span>\n",
    "\n",
    "lista_precio_reb = sopa_coches.find_all(\"span\",{\"class\":\"jsx-2689423372 price\"})\n",
    "lista_precio_reb\n",
    "precio_rebajado =[]\n",
    "for precio in lista_precio_reb:\n",
    "    precio_rebajado.append(precio.getText())\n",
    "print(precio_rebajado)\n",
    "\n",
    "\n",
    "\n",
    "#<img src=\"https://d2vub9o4tqpvne.cloudfront.net/7QUTp-181ROLpTllxjLyS9231VvjQgnLQ9zLi6gtR-c/icon/aHR0cHM6Ly9nb3AtZ2FsbGVyeS1kZXYuczMuZXUtd2VzdC0xLmFtYXpvbmF3cy5jb20vb2Nhc2lvbnBsdXMvc3RhdGljL2ljb25zL09QLUlDT05PUy1raWxvbWV0cmFqZS1ncmlzLnBuZw\" alt=\"KM\" width=\"25px\" height=\"22px\" class=\"jsx-3960002075 icon\">\n",
    "\n"
   ]
  },
  {
   "cell_type": "code",
   "execution_count": 74,
   "metadata": {},
   "outputs": [
    {
     "data": {
      "text/plain": [
       "[<span class=\"jsx-2689423372 price\">14.536<!-- -->€</span>,\n",
       " <span class=\"jsx-2689423372 price\">13.627<!-- -->€</span>,\n",
       " <span class=\"jsx-2689423372 price\">10.900<!-- -->€</span>,\n",
       " <span class=\"jsx-2689423372 price\">14.991<!-- -->€</span>,\n",
       " <span class=\"jsx-2689423372 price\">11.727<!-- -->€</span>,\n",
       " <span class=\"jsx-2689423372 price\">15.636<!-- -->€</span>,\n",
       " <span class=\"jsx-2689423372 price\">13.545<!-- -->€</span>,\n",
       " <span class=\"jsx-2689423372 price\">15.000<!-- -->€</span>,\n",
       " <span class=\"jsx-2689423372 price\">21.809<!-- -->€</span>,\n",
       " <span class=\"jsx-2689423372 price\">18.091<!-- -->€</span>,\n",
       " <span class=\"jsx-2689423372 price\">15.864<!-- -->€</span>,\n",
       " <span class=\"jsx-2689423372 price\">53.182<!-- -->€</span>,\n",
       " <span class=\"jsx-2689423372 price\">21.227<!-- -->€</span>,\n",
       " <span class=\"jsx-2689423372 price\">7.890<!-- -->€</span>,\n",
       " <span class=\"jsx-2689423372 price\">13.991<!-- -->€</span>,\n",
       " <span class=\"jsx-2689423372 price\">9.900<!-- -->€</span>,\n",
       " <span class=\"jsx-2689423372 price\">11.636<!-- -->€</span>,\n",
       " <span class=\"jsx-2689423372 price\">19.909<!-- -->€</span>,\n",
       " <span class=\"jsx-2689423372 price\">13.454<!-- -->€</span>,\n",
       " <span class=\"jsx-2689423372 price\">11.318<!-- -->€</span>]"
      ]
     },
     "execution_count": 74,
     "metadata": {},
     "output_type": "execute_result"
    }
   ],
   "source": [
    "lista_precio_reb"
   ]
  },
  {
   "cell_type": "code",
   "execution_count": 83,
   "metadata": {},
   "outputs": [],
   "source": [
    "lista_km = sopa_coches.find_all(\"span\", {\"class\": \"jsx-3960002075 detail big\"})\n",
    "lista_km\n",
    "lista_km_recorridos =[]\n",
    "#for kilometro in lista_km:\n",
    "    #print(kilometro)\n",
    "#<span class=\"jsx-3960002075 detail big\"><img src=\"https://d2vub9o4tqpvne.cloudfront.net/7QUTp-181ROLpTllxjLyS9231VvjQgnLQ9zLi6gtR-c/icon/aHR0cHM6Ly9nb3AtZ2FsbGVyeS1kZXYuczMuZXUtd2VzdC0xLmFtYXpvbmF3cy5jb20vb2Nhc2lvbnBsdXMvc3RhdGljL2ljb25zL09QLUlDT05PUy1raWxvbWV0cmFqZS1ncmlzLnBuZw\" alt=\"KM\" width=\"25px\" height=\"22px\" class=\"jsx-3960002075 icon\">102.158<!-- --> km</span>\n",
    "    #<span class=\"jsx-3960002075 detail big\"><img src=\"https://d2vub9o4tqpvne.cloudfront.net/7QUTp-181ROLpTllxjLyS9231VvjQgnLQ9zLi6gtR-c/icon/aHR0cHM6Ly9nb3AtZ2FsbGVyeS1kZXYuczMuZXUtd2VzdC0xLmFtYXpvbmF3cy5jb20vb2Nhc2lvbnBsdXMvc3RhdGljL2ljb25zL09QLUlDT05PUy1raWxvbWV0cmFqZS1ncmlzLnBuZw\" alt=\"KM\" width=\"25px\" height=\"22px\" class=\"jsx-3960002075 icon\">66.073<!-- --> km</span>"
   ]
  },
  {
   "cell_type": "code",
   "execution_count": null,
   "metadata": {},
   "outputs": [],
   "source": []
  },
  {
   "cell_type": "code",
   "execution_count": 89,
   "metadata": {},
   "outputs": [
    {
     "data": {
      "text/plain": [
       "<span class=\"jsx-3960002075 detail big\"><img alt=\"Libro Mantenimiento\" class=\"jsx-3960002075 icon\" height=\"22px\" loading=\"lazy\" src=\"https://d2vub9o4tqpvne.cloudfront.net/aYyqScwGUij5_GVIdOtgB0D35E0NltRQgA8zz7TN7Ww/icon/aHR0cHM6Ly9nb3AtZ2FsbGVyeS1kZXYuczMuZXUtd2VzdC0xLmFtYXpvbmF3cy5jb20vb2Nhc2lvbnBsdXMvc3RhdGljL2ljb25zL09QLUlDT05PUy1saWJyby1yZXZpc2lvbmVzLWdyaXMucG5n\" width=\"25px\"/>Libro Mantenimiento</span>"
      ]
     },
     "execution_count": 89,
     "metadata": {},
     "output_type": "execute_result"
    }
   ],
   "source": [
    "lista_km[4]"
   ]
  },
  {
   "cell_type": "code",
   "execution_count": null,
   "metadata": {},
   "outputs": [],
   "source": []
  },
  {
   "cell_type": "markdown",
   "metadata": {},
   "source": []
  }
 ],
 "metadata": {
  "kernelspec": {
   "display_name": "base",
   "language": "python",
   "name": "python3"
  },
  "language_info": {
   "codemirror_mode": {
    "name": "ipython",
    "version": 3
   },
   "file_extension": ".py",
   "mimetype": "text/x-python",
   "name": "python",
   "nbconvert_exporter": "python",
   "pygments_lexer": "ipython3",
   "version": "3.9.7"
  }
 },
 "nbformat": 4,
 "nbformat_minor": 2
}
