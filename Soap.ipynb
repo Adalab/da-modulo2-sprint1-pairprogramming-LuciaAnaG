{
 "cells": [
  {
   "cell_type": "code",
   "execution_count": 87,
   "metadata": {},
   "outputs": [],
   "source": [
    "from bs4 import BeautifulSoup\n",
    "import requests\n",
    "\n",
    "# Importar librerías para manipulación y análisis de datos\n",
    "# -----------------------------------------------------------------------\n",
    "import pandas as pd\n",
    "\n",
    "# Importar librerías para procesamiento de texto\n",
    "# -----------------------------------------------------------------------\n",
    "import re"
   ]
  },
  {
   "cell_type": "markdown",
   "metadata": {},
   "source": [
    "Realizará una solicitud HTTP GET a la siguiente url.\n",
    "Comprobará el código de estado de la respuesta. Si el código no es 200 (OK), imprimirá un mensaje de error y retornará None.\n",
    "Extraerá los nombres de los coches, los precios rebajados, los precios originales y la información de los kilómetros recorridos de la página.\n",
    "Organizará los datos extraídos en un DataFrame de pandas con las siguientes columnas:\n",
    "\"coche\": Nombres de los coches.\n",
    "\"precio_rebajado\": Precios rebajados.\n",
    "\"precio_original\": Precios originales.\n",
    "\"km\": Kilómetros recorridos.\n",
    "Retornará el DataFrame resultante"
   ]
  },
  {
   "cell_type": "code",
   "execution_count": 108,
   "metadata": {},
   "outputs": [
    {
     "data": {
      "text/plain": [
       "0"
      ]
     },
     "execution_count": 108,
     "metadata": {},
     "output_type": "execute_result"
    }
   ],
   "source": [
    "url_coches = \"https://www.ocasionplus.com/coches-ocasion?type%3DCAR%26sort%3DFECHAOP_DESC%26page%3D2\"\n",
    "res_coches = requests.get(url_coches)\n",
    "res_coches.status_code\n",
    "sopa_coches= BeautifulSoup(res_coches.content, \"html.parser\")\n",
    "#print(sopa_coches.prettify())\n",
    "\n",
    "#<h2 style=\"overflow-x:hidden\">Hyundai i20 1.2 MPI (75CV) Essence LE</h2>\n",
    "diccionario_pagina_coches = {\"nombre\":[], \"precio_original\":[],\"precio_rebajado\":[]}\n",
    "\n",
    "lista_nombre_coches = sopa_coches.find_all(\"h2\",{\"style\":\"overflow-x:hidden\"})\n",
    "lista_nombre_coches\n",
    "nombres_coches =[]\n",
    "for nombre in lista_nombre_coches:\n",
    "    nombre_text = nombre.getText()  # Extraemos el texto de cada elemento y lo almacenamos en nombre_text\n",
    "    nombres_coches.append(nombre_text)\n",
    "   \n",
    "diccionario_pagina_coches[\"nombre\"] = nombres_coches\n",
    "\n",
    "\n",
    "\n",
    "lista_precio_ori = sopa_coches.find_all(\"span\",{\"class\":\"jsx-2870186023 priceLast\"})\n",
    "lista_precio_ori\n",
    "precio_original =[]\n",
    "for precio in lista_precio_ori:\n",
    "    precio_original_text= precio.getText()\n",
    "    precio_original.append(precio_original_text)\n",
    "\n",
    "diccionario_pagina_coches[\"precio_original\"] = precio_original\n",
    "len(precio_original)\n",
    "\n",
    "\n",
    "lista_precio_reb = sopa_coches.find_all(\"span\",{\"class\":\"jsx-2689423372 price\"})\n",
    "lista_precio_reb\n",
    "precio_rebajado =[]\n",
    "for precio in lista_precio_reb:\n",
    "    precio_rebajado_text =precio.getText()\n",
    "    precio_rebajado.append(precio_rebajado_text)\n",
    "\n",
    "diccionario_pagina_coches[\"precio_rebajado\"] = precio_rebajado\n",
    "\n",
    "lista_km = sopa_coches.find_all(\"span\", {\"class\": \"jsx-3960002075 detail big\"})\n",
    "valores_km = []\n",
    "\n",
    "#for elemento in lista_km:\n",
    "    #texto = elemento.get_text()\n",
    "    #match = re.search(r'(\\d+\\.\\d+)\\s*km', texto)\n",
    "    #if match:\n",
    "        #valor_km = match.group(1)\n",
    "        #valores_km.append(valor_km)\n",
    "\n",
    "#diccionario_pagina_coches[\"km\"] = valores_km\n",
    "\n",
    "\n",
    "len(valores_km)\n",
    "\n",
    "\n",
    "\n",
    "\n",
    "#<img src=\"https://d2vub9o4tqpvne.cloudfront.net/7QUTp-181ROLpTllxjLyS9231VvjQgnLQ9zLi6gtR-c/icon/aHR0cHM6Ly9nb3AtZ2FsbGVyeS1kZXYuczMuZXUtd2VzdC0xLmFtYXpvbmF3cy5jb20vb2Nhc2lvbnBsdXMvc3RhdGljL2ljb25zL09QLUlDT05PUy1raWxvbWV0cmFqZS1ncmlzLnBuZw\" alt=\"KM\" width=\"25px\" height=\"22px\" class=\"jsx-3960002075 icon\">\n",
    "\n"
   ]
  },
  {
   "cell_type": "code",
   "execution_count": null,
   "metadata": {},
   "outputs": [],
   "source": [
    "valores_km = []\n",
    "for elemento in valores_km:\n",
    "    if 'km 'in elemento:\n",
    "        print(elemento)\n"
   ]
  },
  {
   "cell_type": "code",
   "execution_count": 109,
   "metadata": {},
   "outputs": [
    {
     "data": {
      "text/plain": [
       "20"
      ]
     },
     "execution_count": 109,
     "metadata": {},
     "output_type": "execute_result"
    }
   ],
   "source": [
    "len(nombres_coches)"
   ]
  },
  {
   "cell_type": "code",
   "execution_count": 104,
   "metadata": {},
   "outputs": [
    {
     "data": {
      "text/plain": [
       "20"
      ]
     },
     "execution_count": 104,
     "metadata": {},
     "output_type": "execute_result"
    }
   ],
   "source": [
    "len(precio_original)"
   ]
  },
  {
   "cell_type": "code",
   "execution_count": 107,
   "metadata": {},
   "outputs": [
    {
     "data": {
      "text/plain": [
       "20"
      ]
     },
     "execution_count": 107,
     "metadata": {},
     "output_type": "execute_result"
    }
   ],
   "source": [
    "len(precio_rebajado)"
   ]
  },
  {
   "cell_type": "code",
   "execution_count": 110,
   "metadata": {},
   "outputs": [
    {
     "data": {
      "text/plain": [
       "{'nombre': ['Ford Kuga 1.5 EcoBlue ST-Line Auto  (120 CV)',\n",
       "  'Jeep Renegade 1.0G Limited 4x2  (120 CV)',\n",
       "  'BMW X1 sDrive20d (190 CV)',\n",
       "  'Hyundai i10 1.0 Klass (66 CV)',\n",
       "  'Citroen C3 PureTech 110 S&S Feel Pack EAT6 Auto (110 CV)',\n",
       "  'Ford Kuga 1.5 EcoBlue ST-Line  (120 CV)',\n",
       "  'Volkswagen Caddy Profesional Beach 2.0 TDI (102CV) BMT',\n",
       "  'Peugeot 3008 SUV PureTech 130 S&S Allure (130 CV)',\n",
       "  'Ford Focus 1.0 Ecoboost MHEV 155cv  ST-Line Auto',\n",
       "  'SEAT Arona 1.0 TSI Style Go2(110 CV)',\n",
       "  'Dacia Dokker Essential 1.6 (110CV) ECO-G N1 GLP',\n",
       "  'Hyundai i40 1.7 CRDI BlueDrive Tecno (115 CV)',\n",
       "  'Citroen Berlingo Combi BlueHDi 100 S&S Talla M 100 Años (102 CV)',\n",
       "  'Kia Ceed KIA Ceed 1.0 T-GDi 74kW (100CV) Drive',\n",
       "  'Opel Corsa 1.2 XEL Edition  (75 CV)',\n",
       "  'Kia Stonic 1.2 CVVT Concept Eco-Dynamic(84 CV)',\n",
       "  'Kia Sportage 1.6 GDI Concept 4x2 (135 CV)',\n",
       "  'Peugeot 208 PureTech 100 GT(100 CV)',\n",
       "  'Renault Clio Business TCe(90 CV)',\n",
       "  'Citroen Berlingo BlueHDi 100 S&S Talla M Shine (102 CV)'],\n",
       " 'precio_original': ['26.450€',\n",
       "  '18.350€',\n",
       "  '20.800€',\n",
       "  '8.800€',\n",
       "  '17.150€',\n",
       "  '27.800€',\n",
       "  '18.800€',\n",
       "  '20.950€',\n",
       "  '27.850€',\n",
       "  '14.900€',\n",
       "  '14.990€',\n",
       "  '16.990€',\n",
       "  '20.350€',\n",
       "  '21.900€',\n",
       "  '12.890€',\n",
       "  '14.950€',\n",
       "  '11.900€',\n",
       "  '19.400€',\n",
       "  '14.100€',\n",
       "  '19.790€'],\n",
       " 'precio_rebajado': ['24.045€',\n",
       "  '16.682€',\n",
       "  '18.909€',\n",
       "  '8.000€',\n",
       "  '15.591€',\n",
       "  '25.273€',\n",
       "  '17.091€',\n",
       "  '19.045€',\n",
       "  '25.318€',\n",
       "  '13.545€',\n",
       "  '13.627€',\n",
       "  '15.445€',\n",
       "  '18.500€',\n",
       "  '19.909€',\n",
       "  '11.718€',\n",
       "  '13.590€',\n",
       "  '10.818€',\n",
       "  '17.636€',\n",
       "  '12.818€',\n",
       "  '17.990€']}"
      ]
     },
     "execution_count": 110,
     "metadata": {},
     "output_type": "execute_result"
    }
   ],
   "source": [
    "diccionario_pagina_coches"
   ]
  },
  {
   "cell_type": "code",
   "execution_count": 97,
   "metadata": {},
   "outputs": [
    {
     "name": "stdout",
     "output_type": "stream",
     "text": [
      "['39.832', '69.568', '140.601', '52.158', '31.405', '108.721', '77.805', '8.672', '75.826', '34.416', '60.743', '48.783', '15.687', '61.645', '63.274', '126.648', '48.940', '48.949', '59.920']\n"
     ]
    }
   ],
   "source": [
    "lista_km = sopa_coches.find_all(\"span\", {\"class\": \"jsx-3960002075 detail big\"})\n",
    "valores_km = []\n",
    "\n",
    "for elemento in lista_km:\n",
    "    texto = elemento.get_text()\n",
    "    match = re.search(r'(\\d+\\.\\d+)\\s*km', texto)\n",
    "    if match:\n",
    "        valor_km = match.group(1)\n",
    "        valores_km.append(valor_km)\n",
    "print(valores_km)\n",
    "\n",
    "\n",
    "\n"
   ]
  },
  {
   "cell_type": "code",
   "execution_count": 111,
   "metadata": {},
   "outputs": [
    {
     "data": {
      "text/html": [
       "<div>\n",
       "<style scoped>\n",
       "    .dataframe tbody tr th:only-of-type {\n",
       "        vertical-align: middle;\n",
       "    }\n",
       "\n",
       "    .dataframe tbody tr th {\n",
       "        vertical-align: top;\n",
       "    }\n",
       "\n",
       "    .dataframe thead th {\n",
       "        text-align: right;\n",
       "    }\n",
       "</style>\n",
       "<table border=\"1\" class=\"dataframe\">\n",
       "  <thead>\n",
       "    <tr style=\"text-align: right;\">\n",
       "      <th></th>\n",
       "      <th>nombre</th>\n",
       "      <th>precio_original</th>\n",
       "      <th>precio_rebajado</th>\n",
       "    </tr>\n",
       "  </thead>\n",
       "  <tbody>\n",
       "    <tr>\n",
       "      <th>0</th>\n",
       "      <td>Ford Kuga 1.5 EcoBlue ST-Line Auto  (120 CV)</td>\n",
       "      <td>26.450€</td>\n",
       "      <td>24.045€</td>\n",
       "    </tr>\n",
       "    <tr>\n",
       "      <th>1</th>\n",
       "      <td>Jeep Renegade 1.0G Limited 4x2  (120 CV)</td>\n",
       "      <td>18.350€</td>\n",
       "      <td>16.682€</td>\n",
       "    </tr>\n",
       "    <tr>\n",
       "      <th>2</th>\n",
       "      <td>BMW X1 sDrive20d (190 CV)</td>\n",
       "      <td>20.800€</td>\n",
       "      <td>18.909€</td>\n",
       "    </tr>\n",
       "    <tr>\n",
       "      <th>3</th>\n",
       "      <td>Hyundai i10 1.0 Klass (66 CV)</td>\n",
       "      <td>8.800€</td>\n",
       "      <td>8.000€</td>\n",
       "    </tr>\n",
       "    <tr>\n",
       "      <th>4</th>\n",
       "      <td>Citroen C3 PureTech 110 S&amp;S Feel Pack EAT6 Aut...</td>\n",
       "      <td>17.150€</td>\n",
       "      <td>15.591€</td>\n",
       "    </tr>\n",
       "    <tr>\n",
       "      <th>5</th>\n",
       "      <td>Ford Kuga 1.5 EcoBlue ST-Line  (120 CV)</td>\n",
       "      <td>27.800€</td>\n",
       "      <td>25.273€</td>\n",
       "    </tr>\n",
       "    <tr>\n",
       "      <th>6</th>\n",
       "      <td>Volkswagen Caddy Profesional Beach 2.0 TDI (10...</td>\n",
       "      <td>18.800€</td>\n",
       "      <td>17.091€</td>\n",
       "    </tr>\n",
       "    <tr>\n",
       "      <th>7</th>\n",
       "      <td>Peugeot 3008 SUV PureTech 130 S&amp;S Allure (130 CV)</td>\n",
       "      <td>20.950€</td>\n",
       "      <td>19.045€</td>\n",
       "    </tr>\n",
       "    <tr>\n",
       "      <th>8</th>\n",
       "      <td>Ford Focus 1.0 Ecoboost MHEV 155cv  ST-Line Auto</td>\n",
       "      <td>27.850€</td>\n",
       "      <td>25.318€</td>\n",
       "    </tr>\n",
       "    <tr>\n",
       "      <th>9</th>\n",
       "      <td>SEAT Arona 1.0 TSI Style Go2(110 CV)</td>\n",
       "      <td>14.900€</td>\n",
       "      <td>13.545€</td>\n",
       "    </tr>\n",
       "    <tr>\n",
       "      <th>10</th>\n",
       "      <td>Dacia Dokker Essential 1.6 (110CV) ECO-G N1 GLP</td>\n",
       "      <td>14.990€</td>\n",
       "      <td>13.627€</td>\n",
       "    </tr>\n",
       "    <tr>\n",
       "      <th>11</th>\n",
       "      <td>Hyundai i40 1.7 CRDI BlueDrive Tecno (115 CV)</td>\n",
       "      <td>16.990€</td>\n",
       "      <td>15.445€</td>\n",
       "    </tr>\n",
       "    <tr>\n",
       "      <th>12</th>\n",
       "      <td>Citroen Berlingo Combi BlueHDi 100 S&amp;S Talla M...</td>\n",
       "      <td>20.350€</td>\n",
       "      <td>18.500€</td>\n",
       "    </tr>\n",
       "    <tr>\n",
       "      <th>13</th>\n",
       "      <td>Kia Ceed KIA Ceed 1.0 T-GDi 74kW (100CV) Drive</td>\n",
       "      <td>21.900€</td>\n",
       "      <td>19.909€</td>\n",
       "    </tr>\n",
       "    <tr>\n",
       "      <th>14</th>\n",
       "      <td>Opel Corsa 1.2 XEL Edition  (75 CV)</td>\n",
       "      <td>12.890€</td>\n",
       "      <td>11.718€</td>\n",
       "    </tr>\n",
       "    <tr>\n",
       "      <th>15</th>\n",
       "      <td>Kia Stonic 1.2 CVVT Concept Eco-Dynamic(84 CV)</td>\n",
       "      <td>14.950€</td>\n",
       "      <td>13.590€</td>\n",
       "    </tr>\n",
       "    <tr>\n",
       "      <th>16</th>\n",
       "      <td>Kia Sportage 1.6 GDI Concept 4x2 (135 CV)</td>\n",
       "      <td>11.900€</td>\n",
       "      <td>10.818€</td>\n",
       "    </tr>\n",
       "    <tr>\n",
       "      <th>17</th>\n",
       "      <td>Peugeot 208 PureTech 100 GT(100 CV)</td>\n",
       "      <td>19.400€</td>\n",
       "      <td>17.636€</td>\n",
       "    </tr>\n",
       "    <tr>\n",
       "      <th>18</th>\n",
       "      <td>Renault Clio Business TCe(90 CV)</td>\n",
       "      <td>14.100€</td>\n",
       "      <td>12.818€</td>\n",
       "    </tr>\n",
       "    <tr>\n",
       "      <th>19</th>\n",
       "      <td>Citroen Berlingo BlueHDi 100 S&amp;S Talla M Shine...</td>\n",
       "      <td>19.790€</td>\n",
       "      <td>17.990€</td>\n",
       "    </tr>\n",
       "  </tbody>\n",
       "</table>\n",
       "</div>"
      ],
      "text/plain": [
       "                                               nombre precio_original  \\\n",
       "0        Ford Kuga 1.5 EcoBlue ST-Line Auto  (120 CV)         26.450€   \n",
       "1            Jeep Renegade 1.0G Limited 4x2  (120 CV)         18.350€   \n",
       "2                           BMW X1 sDrive20d (190 CV)         20.800€   \n",
       "3                       Hyundai i10 1.0 Klass (66 CV)          8.800€   \n",
       "4   Citroen C3 PureTech 110 S&S Feel Pack EAT6 Aut...         17.150€   \n",
       "5             Ford Kuga 1.5 EcoBlue ST-Line  (120 CV)         27.800€   \n",
       "6   Volkswagen Caddy Profesional Beach 2.0 TDI (10...         18.800€   \n",
       "7   Peugeot 3008 SUV PureTech 130 S&S Allure (130 CV)         20.950€   \n",
       "8    Ford Focus 1.0 Ecoboost MHEV 155cv  ST-Line Auto         27.850€   \n",
       "9                SEAT Arona 1.0 TSI Style Go2(110 CV)         14.900€   \n",
       "10    Dacia Dokker Essential 1.6 (110CV) ECO-G N1 GLP         14.990€   \n",
       "11      Hyundai i40 1.7 CRDI BlueDrive Tecno (115 CV)         16.990€   \n",
       "12  Citroen Berlingo Combi BlueHDi 100 S&S Talla M...         20.350€   \n",
       "13     Kia Ceed KIA Ceed 1.0 T-GDi 74kW (100CV) Drive         21.900€   \n",
       "14                Opel Corsa 1.2 XEL Edition  (75 CV)         12.890€   \n",
       "15     Kia Stonic 1.2 CVVT Concept Eco-Dynamic(84 CV)         14.950€   \n",
       "16          Kia Sportage 1.6 GDI Concept 4x2 (135 CV)         11.900€   \n",
       "17                Peugeot 208 PureTech 100 GT(100 CV)         19.400€   \n",
       "18                   Renault Clio Business TCe(90 CV)         14.100€   \n",
       "19  Citroen Berlingo BlueHDi 100 S&S Talla M Shine...         19.790€   \n",
       "\n",
       "   precio_rebajado  \n",
       "0          24.045€  \n",
       "1          16.682€  \n",
       "2          18.909€  \n",
       "3           8.000€  \n",
       "4          15.591€  \n",
       "5          25.273€  \n",
       "6          17.091€  \n",
       "7          19.045€  \n",
       "8          25.318€  \n",
       "9          13.545€  \n",
       "10         13.627€  \n",
       "11         15.445€  \n",
       "12         18.500€  \n",
       "13         19.909€  \n",
       "14         11.718€  \n",
       "15         13.590€  \n",
       "16         10.818€  \n",
       "17         17.636€  \n",
       "18         12.818€  \n",
       "19         17.990€  "
      ]
     },
     "execution_count": 111,
     "metadata": {},
     "output_type": "execute_result"
    }
   ],
   "source": [
    "df_coches=pd.DataFrame(diccionario_pagina_coches)\n",
    "df_coches\n",
    "\n",
    "\n",
    "\n",
    "\n"
   ]
  },
  {
   "cell_type": "markdown",
   "metadata": {},
   "source": []
  }
 ],
 "metadata": {
  "kernelspec": {
   "display_name": "base",
   "language": "python",
   "name": "python3"
  },
  "language_info": {
   "codemirror_mode": {
    "name": "ipython",
    "version": 3
   },
   "file_extension": ".py",
   "mimetype": "text/x-python",
   "name": "python",
   "nbconvert_exporter": "python",
   "pygments_lexer": "ipython3",
   "version": "3.9.7"
  }
 },
 "nbformat": 4,
 "nbformat_minor": 2
}
